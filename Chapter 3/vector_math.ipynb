{
 "cells": [
  {
   "cell_type": "code",
   "execution_count": 1,
   "metadata": {},
   "outputs": [
    {
     "name": "stdout",
     "output_type": "stream",
     "text": [
      "[1.0, 5.75, 28.5]\n"
     ]
    }
   ],
   "source": [
    "def elementwise_multiplication(vec_a, vec_b):\n",
    "    assert(len(vec_a) == len(vec_b))\n",
    "    vec_c = [0.0] * len(vec_a)\n",
    "    for i in range(len(vec_a)):\n",
    "        vec_c[i] = vec_a[i] * vec_b[i]\n",
    "\n",
    "    return vec_c\n",
    "\n",
    "vec_a = [1.0, 2.5, 3.0]\n",
    "vec_b = [1.0, 2.3, 9.5]\n",
    "\n",
    "res = elementwise_multiplication(vec_a, vec_b)\n",
    "print(res)\n"
   ]
  },
  {
   "cell_type": "code",
   "execution_count": 2,
   "metadata": {},
   "outputs": [
    {
     "name": "stdout",
     "output_type": "stream",
     "text": [
      "[2.0, 4.8, 12.5]\n"
     ]
    }
   ],
   "source": [
    "def elementwise_addition(vec_a, vec_b):\n",
    "    assert(len(vec_a) == len(vec_b))\n",
    "    \n",
    "    vec_c = [0.0] * len(vec_a)\n",
    "    for i in range(len(vec_a)):\n",
    "        vec_c[i] = vec_a[i] + vec_b[i]\n",
    "\n",
    "    return vec_c\n",
    "\n",
    "res = elementwise_addition(vec_a, vec_b)\n",
    "print(res)"
   ]
  },
  {
   "cell_type": "code",
   "execution_count": 3,
   "metadata": {},
   "outputs": [
    {
     "name": "stdout",
     "output_type": "stream",
     "text": [
      "6.5\n"
     ]
    }
   ],
   "source": [
    "def vector_sum(vec_a):\n",
    "    sum = 0.0\n",
    "    for i in range(len(vec_a)):\n",
    "        sum += vec_a[i]\n",
    "\n",
    "    return sum\n",
    "\n",
    "print(vector_sum(vec_a))"
   ]
  },
  {
   "cell_type": "code",
   "execution_count": 4,
   "metadata": {},
   "outputs": [
    {
     "name": "stdout",
     "output_type": "stream",
     "text": [
      "2.1666666666666665\n"
     ]
    }
   ],
   "source": [
    "def vector_average(vec_a):\n",
    "    sum = vector_sum(vec_a)\n",
    "    return sum / len(vec_a)\n",
    "\n",
    "print(vector_average(vec_a))"
   ]
  }
 ],
 "metadata": {
  "kernelspec": {
   "display_name": "Python 3",
   "language": "python",
   "name": "python3"
  },
  "language_info": {
   "codemirror_mode": {
    "name": "ipython",
    "version": 3
   },
   "file_extension": ".py",
   "mimetype": "text/x-python",
   "name": "python",
   "nbconvert_exporter": "python",
   "pygments_lexer": "ipython3",
   "version": "3.12.8"
  }
 },
 "nbformat": 4,
 "nbformat_minor": 2
}
